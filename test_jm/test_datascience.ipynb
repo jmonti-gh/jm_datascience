{
 "cells": [
  {
   "cell_type": "markdown",
   "id": "f10d5ba8",
   "metadata": {},
   "source": [
    "# jm_pandas test"
   ]
  },
  {
   "cell_type": "code",
   "execution_count": 11,
   "id": "38fb7b78",
   "metadata": {},
   "outputs": [],
   "source": [
    "## Standard Libs\n",
    "from typing import Union, Optional, Tuple, Dict, Any\n",
    "import warnings\n",
    "import random\n",
    "\n",
    "# Third-Party Libs\n",
    "import numpy as np\n",
    "import pandas as pd\n",
    "import matplotlib.pyplot as plt\n",
    "from rich.console import Console\n",
    "from rich.text import Text\n",
    "from rich.panel import Panel\n",
    "\n",
    "# Local Libs\n",
    "from jm_datascience import jm_pandas as jm_pd\n",
    "from jm_datascience import jm_pdaccessor"
   ]
  },
  {
   "cell_type": "markdown",
   "id": "e3282540",
   "metadata": {},
   "source": [
    "## Some Series and DFs"
   ]
  },
  {
   "cell_type": "code",
   "execution_count": null,
   "id": "e4919c02",
   "metadata": {},
   "outputs": [],
   "source": [
    "df_work = pd.DataFrame({\n",
    "    'nombre': ['Ana', 'Bob', '', 'Carlos', ' ', 'Diana'],\n",
    "    'apellido': ['A_Ana', 'B_Bob', None, 'C_Carlos', None, 'D_Diana'],\n",
    "    'edad': [25, -1, 30, 999, 28, 22],\n",
    "    'ciudad': ['Madrid', 'N/A', 'Barcelona', 'Valencia', 'unknown', 'Sevilla'],\n",
    "    'salario': [50000, 0, 60000, -999, 55000, 48000]\n",
    "})\n",
    "\n",
    "## Read spreedsheet for tests\n",
    "# spreedsheet = r\"C:\\Users\\jm\\Documents\\__Dev\\PortableGit\\__localrepos\\365DS_jm\\3_statistics\\2_13_Practical_Ex_Descriptive_Stats.xlsx\"    # Casa\n",
    "spreedsheet = r\"D:\\git\\PortableGit\\__localrepos\\365DS_jm\\3_statistics\\2_13_Practical_Ex_Descriptive_Stats.xlsx\"                         # Office\n",
    "\n",
    "df_xls = pd.read_excel(spreedsheet, skiprows=4, usecols='B:J,L:AA', index_col='ID')\n",
    "\n",
    "lst_str = random.choices([chr(i) for i in range(65, 72)], k=99)\n",
    "sr_str = jm_pd.to_serie_with_count(lst_str)                         # <- jm_pd.to_serie_with_count()\n"
   ]
  },
  {
   "cell_type": "markdown",
   "id": "7beb4854",
   "metadata": {},
   "source": [
    "## jm_pd.to_serie_with_count()"
   ]
  },
  {
   "cell_type": "code",
   "execution_count": 13,
   "id": "ee94a95a",
   "metadata": {},
   "outputs": [
    {
     "data": {
      "text/plain": [
       "F    20\n",
       "D    19\n",
       "E    13\n",
       "C    13\n",
       "A    12\n",
       "B    11\n",
       "G    11\n",
       "Name: count, dtype: int64"
      ]
     },
     "execution_count": 13,
     "metadata": {},
     "output_type": "execute_result"
    }
   ],
   "source": [
    "sr_counted = jm_pd.to_serie_with_count(lst_str, count=True)\n",
    "sr_counted"
   ]
  },
  {
   "cell_type": "markdown",
   "id": "197e1afa",
   "metadata": {},
   "source": [
    "## fmt_value_for_pd(value, width=8, decimals=2, miles=','):"
   ]
  },
  {
   "cell_type": "code",
   "execution_count": 35,
   "id": "31f13e19",
   "metadata": {},
   "outputs": [
    {
     "data": {
      "text/html": [
       "<div>\n",
       "<style scoped>\n",
       "    .dataframe tbody tr th:only-of-type {\n",
       "        vertical-align: middle;\n",
       "    }\n",
       "\n",
       "    .dataframe tbody tr th {\n",
       "        vertical-align: top;\n",
       "    }\n",
       "\n",
       "    .dataframe thead th {\n",
       "        text-align: right;\n",
       "    }\n",
       "</style>\n",
       "<table border=\"1\" class=\"dataframe\">\n",
       "  <thead>\n",
       "    <tr style=\"text-align: right;\">\n",
       "      <th></th>\n",
       "      <th>nombre</th>\n",
       "      <th>edad</th>\n",
       "      <th>ciudad</th>\n",
       "      <th>salario</th>\n",
       "    </tr>\n",
       "  </thead>\n",
       "  <tbody>\n",
       "    <tr>\n",
       "      <th>0</th>\n",
       "      <td>Ana</td>\n",
       "      <td>25</td>\n",
       "      <td>Madrid</td>\n",
       "      <td>50_000</td>\n",
       "    </tr>\n",
       "    <tr>\n",
       "      <th>1</th>\n",
       "      <td>Bob</td>\n",
       "      <td>-1</td>\n",
       "      <td>N/A</td>\n",
       "      <td>0</td>\n",
       "    </tr>\n",
       "    <tr>\n",
       "      <th>2</th>\n",
       "      <td></td>\n",
       "      <td>30</td>\n",
       "      <td>Barcelona</td>\n",
       "      <td>60_000</td>\n",
       "    </tr>\n",
       "    <tr>\n",
       "      <th>3</th>\n",
       "      <td>Carlos</td>\n",
       "      <td>999</td>\n",
       "      <td>Valencia</td>\n",
       "      <td>-999</td>\n",
       "    </tr>\n",
       "    <tr>\n",
       "      <th>4</th>\n",
       "      <td></td>\n",
       "      <td>28</td>\n",
       "      <td>unknown</td>\n",
       "      <td>55_000</td>\n",
       "    </tr>\n",
       "    <tr>\n",
       "      <th>5</th>\n",
       "      <td>Diana</td>\n",
       "      <td>22</td>\n",
       "      <td>Sevilla</td>\n",
       "      <td>48_000</td>\n",
       "    </tr>\n",
       "  </tbody>\n",
       "</table>\n",
       "</div>"
      ],
      "text/plain": [
       "     nombre      edad     ciudad   salario\n",
       "0       Ana        25     Madrid    50_000\n",
       "1       Bob        -1        N/A         0\n",
       "2                  30  Barcelona    60_000\n",
       "3    Carlos       999   Valencia      -999\n",
       "4                  28    unknown    55_000\n",
       "5     Diana        22    Sevilla    48_000"
      ]
     },
     "metadata": {},
     "output_type": "display_data"
    },
    {
     "data": {
      "text/plain": [
       "np.int64(0)"
      ]
     },
     "execution_count": 35,
     "metadata": {},
     "output_type": "execute_result"
    }
   ],
   "source": [
    "display(df_work.map(lambda x: jm_pd.fmt_value_for_pd(x, decimals=0, miles='_')))\n",
    "\n",
    "df_work_b = df_work.copy()\n",
    "\n",
    "for col in df_work_b.columns:\n",
    "    df_work_b[col] = df_work_b[col].map(lambda x: jm_pd.fmt_value_for_pd(x, decimals=0))\n",
    "\n",
    "# df_work_b.isna()\n",
    "df_work.isna().sum().sum()\n"
   ]
  },
  {
   "cell_type": "code",
   "execution_count": null,
   "id": "aaffdc9a",
   "metadata": {},
   "outputs": [],
   "source": []
  },
  {
   "cell_type": "markdown",
   "id": "139db2c5",
   "metadata": {},
   "source": [
    "## Pie - Domut chart"
   ]
  },
  {
   "cell_type": "code",
   "execution_count": null,
   "id": "526073c1",
   "metadata": {},
   "outputs": [],
   "source": [
    "cat_1 = pd.Series([35, 25, 20, 12, 8], index=['Product A', 'Product B', 'Product C', 'Product D', 'Product E'])\n",
    "cat_2 = pd.Series({'Region A': 45,'Region B': 30,'Region C': 25})\n",
    "\n",
    "cat_3 = pd.DataFrame([25, 30, 20, 15, 10], index=['A', 'B', 'C', 'D', 'E'], columns=['values'])     \n",
    "# cat_3 = pd.DataFrame([[25], [30], [20], [15], [10]], index=['A', 'B', 'C', 'D', 'E'], columns=['values'])     # [ERR] values are np.ndarrays, ex. [25] 1x1 array?\n",
    "cat_4 = pd.Series({'Region A': 45,'Region B': 30,'Region C': 25, 'Region D': 17})\n",
    "cat_5 = pd.Series([25, 30, 20, 15, 10], index=['A', 'B', 'C', 'D', 'E'], name='Frequency')\n",
    "# cat_6 = pd.DataFrame(pd.Series)\n",
    "# cat_7 = pd.Series.to_frame()\n",
    "\n",
    "# cat_3.dtypes\n",
    "# for i in range(len(cat_3)):\n",
    "#     print(f\"{cat_3['values'].iloc[i]} | {type(cat_3['values'].iloc[i]) = }\")\n",
    "\n",
    "# for value in cat_3.values:\n",
    "#       print(f\"{value = } | {type(value) = }\")\n",
    "\n",
    "# for value in cat_3['values'].values:\n",
    "#      print(f\"{value = } | {type(value) = }\")"
   ]
  },
  {
   "cell_type": "code",
   "execution_count": null,
   "id": "b4fc5a82",
   "metadata": {},
   "outputs": [],
   "source": [
    "# data = cat_3\n",
    "# if isinstance(data, pd.DataFrame):                      # Only one-column df\n",
    "#     if data.shape[1] != 1:\n",
    "#         raise ValueError(\n",
    "#             f\"DataFrame must have exactly one column. Got {data.shape[1]} columns.\"\n",
    "#         )\n",
    "#     else:                                               # One-clolumn df to Serie\n",
    "#         data = data.iloc[:, 0]\n",
    "\n",
    "# for value in data.values:\n",
    "#     print(f\"{value = } | {type(value) = }\")\n",
    "#     if not isinstance(value, (int, float, np.integer, np.floating)):\n",
    "#         print(f\"{value = } | {type(value) = }\")"
   ]
  },
  {
   "cell_type": "code",
   "execution_count": null,
   "id": "c4b05c9c",
   "metadata": {},
   "outputs": [],
   "source": [
    "fig, ax = jm_pd.plt_pie(cat_3, kind='donut', title='Donut Distribution', startangle=0)"
   ]
  },
  {
   "cell_type": "code",
   "execution_count": null,
   "id": "73f77ed0",
   "metadata": {},
   "outputs": [],
   "source": []
  },
  {
   "cell_type": "code",
   "execution_count": null,
   "id": "cae1f0e0",
   "metadata": {},
   "outputs": [],
   "source": [
    "# # fig, ax = jm_pandas.plt_piechart(catdf_1, title='Total de Ventas', rotate=-40)\n",
    "# # fig, ax = jm_pandas.plt_pie_2(catdf_1, title='Total de Ventas')\n",
    "fig, ax = jm_pd.plt_pie(cat_4, title='Total de Ventas', kind='pie', label_place='int', scale=4, palette='Blues_r')"
   ]
  },
  {
   "cell_type": "code",
   "execution_count": null,
   "id": "b4c4068d",
   "metadata": {},
   "outputs": [],
   "source": [
    "fig, ax = jm_pd.plt_pie(cat_2, title='Clientes por región', scale=3, label_place='int')\n",
    "# fig, ax = jm_pandas.plt_pie_1(catdf_2, title='Clientes por región')\n",
    "# fig, ax = jm_pandas.plt_piechart2(catdf_2, title='Clientes por región')"
   ]
  },
  {
   "cell_type": "code",
   "execution_count": null,
   "id": "f0f65771",
   "metadata": {},
   "outputs": [],
   "source": [
    "## import Libs for partial tests from here.\n",
    "import numpy as np\n",
    "import pandas as pd\n",
    "from jm_datascience import jm_pdaccessor\n",
    "\n",
    "## Read spreedsheet for tests\n",
    "spreedsheet = r\"C:\\Users\\jm\\Documents\\__Dev\\PortableGit\\__localrepos\\365DS_jm\\3_statistics\\2_13_Practical_Ex_Descriptive_Stats.xlsx\"    # Casa\n",
    "# spreedsheet = r\"D:\\git\\PortableGit\\__localrepos\\365DS_jm\\3_statistics\\2_13_Practical_Ex_Descriptive_Stats.xlsx\"                         # Office\n",
    "\n",
    "df = pd.read_excel(spreedsheet, skiprows=4, usecols='B:J,L:AA', index_col='ID')\n",
    "df3 = df.jm.convert_dtypes_max()"
   ]
  },
  {
   "cell_type": "markdown",
   "id": "dc676fe3",
   "metadata": {},
   "source": [
    "## pd_accessor para Series y para DFs"
   ]
  },
  {
   "cell_type": "code",
   "execution_count": null,
   "id": "4383cd8a",
   "metadata": {},
   "outputs": [],
   "source": [
    "df.jm.generals()\n",
    "df['Age at time of purchase'].jm.generals()"
   ]
  },
  {
   "cell_type": "code",
   "execution_count": null,
   "id": "81bd76b9",
   "metadata": {},
   "outputs": [],
   "source": [
    "# print(df.columns)\n",
    "# df.jm.infomax()\n",
    "# df['Age at time of purchase'].jm.infomax()\n",
    "df['State'].jm.profile()\n",
    "# df.jm.profile()\n"
   ]
  },
  {
   "cell_type": "markdown",
   "id": "abfba1c6",
   "metadata": {},
   "source": [
    "## describeplus() -> method?"
   ]
  },
  {
   "cell_type": "code",
   "execution_count": null,
   "id": "02730d4f",
   "metadata": {},
   "outputs": [],
   "source": [
    "df.describe(include='all')\n",
    "display(df.describe())\n",
    "display(df['Age at time of purchase'].describe())"
   ]
  },
  {
   "cell_type": "code",
   "execution_count": null,
   "id": "3f1d2620",
   "metadata": {},
   "outputs": [],
   "source": [
    "# describeplus() para Series y para DFs\n",
    "display(df3.describe())\n",
    "display(df3['Age at time of purchase'].describe())\n",
    "df3.jm.infomax()\n",
    "df3['Age at time of purchase'].describe()\n"
   ]
  },
  {
   "cell_type": "markdown",
   "id": "f4623d2c",
   "metadata": {},
   "source": [
    "## Numeric Cols\n",
    "- Basicamente todas las cols a las que les pueda calcular min() y max(), etc. Tambien porque son oject pero tiene números."
   ]
  },
  {
   "cell_type": "code",
   "execution_count": null,
   "id": "db911da8",
   "metadata": {},
   "outputs": [],
   "source": [
    "## Read the data (a table) into a DF\n",
    "# Useful data from row 5 to the end (row 272) -> skiprows=4 [avoid title rows, first four rows]\n",
    "# Column k is empty, avoid k column -> usecols='B:J,L:AA'\n",
    "# I Will take ID column as the DF index_col (because ID is unique for each operation)\n",
    "\n",
    "spreedsheet = r\"C:\\Users\\jm\\Documents\\__Dev\\PortableGit\\__localrepos\\365DS_jm\\3_statistics\\2_13_Practical_Ex_Descriptive_Stats.xlsx\"    # Casa\n",
    "# spreedsheet = r\"D:\\git\\PortableGit\\__localrepos\\365DS_jm\\3_statistics\\2_13_Practical_Ex_Descriptive_Stats.xlsx\"                         # Office\n",
    "\n",
    "df = pd.read_excel(spreedsheet, skiprows=4, usecols='B:J,L:AA', index_col='ID')\n",
    "\n",
    "# df.info()\n",
    "df1 = df.convert_dtypes()\n",
    "df2 = df.jm.convert_dtypes_plus()\n",
    "df3 = df.jm.convert_dtypes_max()\n",
    "# df1.info()"
   ]
  },
  {
   "cell_type": "code",
   "execution_count": null,
   "id": "95edf2b5",
   "metadata": {},
   "outputs": [],
   "source": [
    "# df3.jm.infomax()"
   ]
  },
  {
   "cell_type": "code",
   "execution_count": null,
   "id": "bea2f1b9",
   "metadata": {},
   "outputs": [],
   "source": [
    "## Distintos métodos de replace values - claude\n",
    "# ----- 1. .replace() me da Warning !\n",
    "# serie_str = df['Age at time of purchase'].replace(' ', np.nan)  # Warning \n",
    "# df['a1'] = df['Age at time of purchase'].replace(' ', np.nan)  # Warning \n",
    "# ----- 2. Condiciones Booleanas bajo la sintaxis df.loc[rows w/conditions, col] = value\n",
    "display(df['Age at time of purchase'].isna().sum())\n",
    "df_2 = df.copy()\n",
    "df_2.loc[df_2['Age at time of purchase'] == ' ', 'Age at time of purchase'] = np.nan    # SII, .replace() con muchos warnings\n",
    "df_2['Age at time of purchase'].isna().sum()\n",
    "# ----- 2. Ventajas:    - Desventaja:"
   ]
  },
  {
   "cell_type": "code",
   "execution_count": null,
   "id": "a3fc401e",
   "metadata": {},
   "outputs": [],
   "source": [
    "# ----- 3. Usando .mask() que aplica en caso True (.where() aplica en caso Falso <- por eso solo probamos mask\n",
    "display(df['Age at time of purchase'].isna().sum())\n",
    "df_3 = df.copy()\n",
    "df_3['Age at time of purchase'] = df_3['Age at time of purchase'].mask(df_3['Age at time of purchase'] == ' ', np.nan)\n",
    "df_3['Age at time of purchase'].isna().sum()"
   ]
  },
  {
   "cell_type": "code",
   "execution_count": null,
   "id": "c37888f0",
   "metadata": {},
   "outputs": [],
   "source": [
    "## Hay varios más. np.where() , apply -> es muy versatil ya que acepta funciones ad-hoc\n",
    "# ----- 4. .apply() - puedo hacer la función tan compleja como yo quiera\n",
    "\n",
    "def replace_spaces_by_nans(value):\n",
    "    if isinstance(value, str) and value.isspace():\n",
    "            return np.nan\n",
    "    return value\n",
    "\n",
    "display(df['Age at time of purchase'].isna().sum())\n",
    "df_4 = df.copy()\n",
    "df_4['Age at time of purchase'] = df_4['Age at time of purchase'].apply(replace_spaces_by_nans)\n",
    "df_4['Age at time of purchase'].isna().sum()"
   ]
  },
  {
   "cell_type": "code",
   "execution_count": null,
   "id": "58d69aa7",
   "metadata": {},
   "outputs": [],
   "source": [
    "# ----- 5. apply() con lambda por ser my sencilla la func.\n",
    "display(df['Age at time of purchase'].isna().sum())\n",
    "df_5 = df.copy()\n",
    "df_5['Age at time of purchase'] = df_5['Age at time of purchase'].apply(lambda x: np.nan if isinstance(x, str) and x.isspace() else x)\n",
    "df_5['Age at time of purchase'].isna().sum()\n",
    "# np.where() dice Claude, que es más rápido para grandes DFs."
   ]
  },
  {
   "cell_type": "code",
   "execution_count": null,
   "id": "5075780c",
   "metadata": {},
   "outputs": [],
   "source": [
    "## Ejemplos de reemplazo de valores con un df ad-hoc.\n",
    "df = pd.DataFrame({\n",
    "    'nombre': ['Ana', 'Bob', '', 'Carlos', ' ', 'Diana'],\n",
    "    'edad': [25, -1, 30, 999, 28, 22],\n",
    "    'ciudad': ['Madrid', 'N/A', 'Barcelona', 'Valencia', 'unknown', 'Sevilla'],\n",
    "    'salario': [50000, 0, 60000, -999, 55000, 48000]\n",
    "})\n",
    "\n",
    "print(\"DataFrame original:\")\n",
    "print(df)\n",
    "print()\n",
    "\n",
    "# =============================================================================\n",
    "# 1. MÉTODO .replace() - EL MÁS VERSÁTIL\n",
    "# =============================================================================\n",
    "\n",
    "print(\"1. MÉTODO .replace()\")\n",
    "print(\"-\" * 40)\n",
    "\n",
    "# Reemplazar un valor específico por otro\n",
    "df_1 = df.copy()\n",
    "df_1['nombre'] = df_1['nombre'].replace(['', ' '], np.nan)\n",
    "print(\"Reemplazar string vacío por NaN:\")\n",
    "print(df_1['nombre'])\n",
    "print()"
   ]
  },
  {
   "cell_type": "code",
   "execution_count": null,
   "id": "bb5d8ddc",
   "metadata": {},
   "outputs": [],
   "source": [
    "# df3.info()"
   ]
  },
  {
   "cell_type": "code",
   "execution_count": null,
   "id": "da052f5f",
   "metadata": {},
   "outputs": [],
   "source": [
    "## Convierte a Int64 si todos los tiene su parte decimal menor a 0.0000001\n",
    "\n",
    "# to_Int64_if_small_decimal(df['M'], 0.0000001)\n",
    "# df1['Price'].apply(is_decimal_part_petty)\n",
    "\n",
    "# df1['Price'].apply(lambda x: True if x % 1 < 0.0000001 else False)\n",
    "# df1['m2'] = df1['M'].dropna()\n",
    "# df1['m2']\n",
    "# df1['M']\n",
    "if df1['Price'].apply(lambda x: True if x % 1 < 0.0000001 or pd.isna(x) else False).all():\n",
    "    print('SIIII')\n",
    "else:\n",
    "    print('NOOOooooo....')\n",
    "\n",
    "# df1['M'][df1['M'] == True].all()"
   ]
  },
  {
   "cell_type": "code",
   "execution_count": null,
   "id": "2a11e9bd",
   "metadata": {},
   "outputs": [],
   "source": [
    "# number of ceros in decimal part\n",
    "num = df1['Price'].iloc[9]\n",
    "decimal_part = num % 1\n",
    "# print(f\"{num = } | {decimals = }\")\n",
    "# s = f\"{num:.16f}\".rstrip('0').split('.')\n",
    "# print(f\"{s[0] = } | {s[1] = }\")"
   ]
  },
  {
   "cell_type": "code",
   "execution_count": null,
   "id": "477dca03",
   "metadata": {},
   "outputs": [],
   "source": []
  },
  {
   "cell_type": "code",
   "execution_count": null,
   "id": "1c6b8ccb",
   "metadata": {},
   "outputs": [],
   "source": [
    "stop()"
   ]
  },
  {
   "cell_type": "code",
   "execution_count": null,
   "id": "c2d9cfde",
   "metadata": {},
   "outputs": [],
   "source": [
    "## Descubrimos un ' ' en ix = 5052 de la columna 'Age at time...\n",
    "display(df['Age at time of purchase'].isna().sum())\n",
    "display(df['Age at time of purchase'].dtype)\n",
    "# display(df['Age at time of purchase'].loc[5052])\n",
    "# df.loc[5052, 'Age at time of purchase'] = np.nan\n",
    "# display(df['Age at time of purchase'].loc[5052])\n",
    "# display(df['Age at time of purchase'].isna().sum())\n",
    "\n",
    "## OK con lo anterior que \"replace ' ' con nan\" \n",
    "# Ahora veremos el pd.to_numeric( errors='coerce')\n",
    "df['Age at time of purchase'] = pd.to_numeric(df['Age at time of purchase'], errors='coerce')\n",
    "display(df['Age at time of purchase'].isna().sum())\n",
    "display(df['Age at time of purchase'].dtype)\n",
    "df['Age at time of purchase'].astype('Int64')"
   ]
  },
  {
   "cell_type": "code",
   "execution_count": null,
   "id": "684a7599",
   "metadata": {},
   "outputs": [],
   "source": [
    "df['Age at time of purchase'].min()"
   ]
  },
  {
   "cell_type": "code",
   "execution_count": null,
   "id": "ef7cdb07",
   "metadata": {},
   "outputs": [],
   "source": [
    "# df.jm.info_cmp(df1)\n",
    "df.jm.infomax()"
   ]
  },
  {
   "cell_type": "code",
   "execution_count": null,
   "id": "0e7d8792",
   "metadata": {},
   "outputs": [],
   "source": [
    "col_num_df = df.select_dtypes(include=[np.number]).columns.to_list()\n",
    "col_num_df\n",
    "col_num_df1 = df1.select_dtypes(include=[np.number]).columns.to_list()\n",
    "col_num_df1\n",
    "col_num_df == col_num_df1       # True"
   ]
  },
  {
   "cell_type": "code",
   "execution_count": null,
   "id": "1640c276",
   "metadata": {},
   "outputs": [],
   "source": [
    "# display(df['Age at time of purchase'].isna().sum())\n",
    "# display(df['Age at time of purchase'].isnull().sum())\n",
    "serie = df['Age at time of purchase'].copy()\n",
    "display(serie.isnull().sum())\n",
    "# s1 = serie.apply(lambda x: True if isinstance(x, (int, float)) else False)\n",
    "for ix, value in df['Age at time of purchase'].items():\n",
    "    if not isinstance(value, (int, float)):\n",
    "        print(ix, value)\n",
    "\n",
    "df['Age at time of purchase'].loc[3012]\n",
    "df['Age at time of purchase'].loc[5052]\n",
    "# print(df1['Age at time of purchase'].loc[1005])\n",
    "len(serie) == len(df['Age at time of purchase'])\n",
    "# serie.fillna(serie.mean())      # serie.mean() <- ERROR!!\n",
    "jm_pandas.clean_df(serie)\n",
    "\n",
    "\n"
   ]
  },
  {
   "cell_type": "code",
   "execution_count": null,
   "id": "53cb4088",
   "metadata": {},
   "outputs": [],
   "source": [
    "for ix, value in df['Age at time of purchase'].items():\n",
    "    print(ix, value)"
   ]
  },
  {
   "cell_type": "code",
   "execution_count": null,
   "id": "c7b793ea",
   "metadata": {},
   "outputs": [],
   "source": []
  },
  {
   "cell_type": "code",
   "execution_count": null,
   "id": "85ab81a7",
   "metadata": {},
   "outputs": [],
   "source": []
  },
  {
   "cell_type": "markdown",
   "id": "a7b2718f",
   "metadata": {},
   "source": [
    "## Clousure for autopct"
   ]
  },
  {
   "cell_type": "code",
   "execution_count": null,
   "id": "0c46eeb9",
   "metadata": {},
   "outputs": [],
   "source": []
  },
  {
   "cell_type": "code",
   "execution_count": null,
   "id": "ad287b26",
   "metadata": {},
   "outputs": [],
   "source": [
    "console = Console()\n",
    "\n",
    "def rich_warning(message, category, filename, lineno, file=None, line=None):\n",
    "    texto = Text.assemble(\n",
    "        (\"[ADVERTENCIA] \", \"bold yellow\"),\n",
    "        (f\"{category.__name__}: \", \"yellow\"),\n",
    "        (str(message), \"white\"),\n",
    "        (\"\\n→ Archivo: \", \"cyan\"),\n",
    "        (filename, \"white\"),\n",
    "        (f\", línea {lineno}\", \"white\")\n",
    "    )\n",
    "    console.print(texto)\n",
    "\n",
    "# Redirigir warnings a Rich\n",
    "warnings.showwarning = rich_warning\n",
    "\n",
    "# Emitir una advertencia\n",
    "warnings.warn(\"Este módulo será eliminado en futuras versiones\", DeprecationWarning)\n"
   ]
  },
  {
   "cell_type": "code",
   "execution_count": null,
   "id": "3316ee50",
   "metadata": {},
   "outputs": [],
   "source": [
    "console = Console()\n",
    "\n",
    "capturadas = []\n",
    "\n",
    "def rich_capture_warning(message, category, filename, lineno, file=None, line=None):\n",
    "    entrada = f\"[{category.__name__}] {message} (archivo: {filename}, línea {lineno})\"\n",
    "    capturadas.append(entrada)\n",
    "\n",
    "warnings.showwarning = rich_capture_warning\n",
    "\n",
    "# Disparar algunas advertencias\n",
    "warnings.warn(\"Esto es una advertencia genérica\")\n",
    "warnings.warn(\"Funcionalidad obsoleta\", DeprecationWarning)\n",
    "warnings.warn(\"Esto se eliminará pronto\", PendingDeprecationWarning)\n",
    "\n",
    "# Mostrar al final del script\n",
    "if capturadas:\n",
    "    console.print(\"\\n[bold red]Advertencias durante la ejecución:[/bold red]\")\n",
    "    for advertencia in capturadas:\n",
    "        console.print(Panel(advertencia, style=\"yellow\"))\n",
    "\n",
    "for advertencia in capturadas:\n",
    "    print(advertencia)"
   ]
  },
  {
   "cell_type": "code",
   "execution_count": null,
   "id": "3b23bc53",
   "metadata": {},
   "outputs": [],
   "source": []
  }
 ],
 "metadata": {
  "kernelspec": {
   "display_name": "Python 3",
   "language": "python",
   "name": "python3"
  },
  "language_info": {
   "codemirror_mode": {
    "name": "ipython",
    "version": 3
   },
   "file_extension": ".py",
   "mimetype": "text/x-python",
   "name": "python",
   "nbconvert_exporter": "python",
   "pygments_lexer": "ipython3",
   "version": "3.13.4"
  }
 },
 "nbformat": 4,
 "nbformat_minor": 5
}
